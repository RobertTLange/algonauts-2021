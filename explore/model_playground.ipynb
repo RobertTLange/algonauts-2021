{
 "cells": [
  {
   "cell_type": "code",
   "execution_count": 1,
   "metadata": {},
   "outputs": [],
   "source": [
    "%matplotlib inline\n",
    "%load_ext autoreload\n",
    "%autoreload 2\n",
    "%config InlineBackend.figure_format = 'retina'\n",
    "\n",
    "import sys\n",
    "sys.path.append(\"..\")"
   ]
  },
  {
   "cell_type": "code",
   "execution_count": 2,
   "metadata": {},
   "outputs": [],
   "source": [
    "from utils.helper import get_encoding_data"
   ]
  },
  {
   "cell_type": "code",
   "execution_count": 3,
   "metadata": {},
   "outputs": [
    {
     "data": {
      "text/plain": [
       "(1000, 232)"
      ]
     },
     "execution_count": 3,
     "metadata": {},
     "output_type": "execute_result"
    }
   ],
   "source": [
    "X, y, X_test = get_encoding_data(fmri_dir=\"../data/participants_data_v2021\",\n",
    "                                 activations_dir='../data/features/alexnet/pca_100',\n",
    "                                 layer_id=\"layer_1\",\n",
    "                                 subject_id=\"sub01\",\n",
    "                                 roi_type=\"V1\")\n",
    "y.shape"
   ]
  },
  {
   "cell_type": "code",
   "execution_count": 6,
   "metadata": {},
   "outputs": [
    {
     "data": {
      "text/plain": [
       "DeviceArray(0.20087245, dtype=float32)"
      ]
     },
     "execution_count": 6,
     "metadata": {},
     "output_type": "execute_result"
    }
   ],
   "source": [
    "from encoding_models.ols import fit_linear_model, predict_linear_model\n",
    "import numpy as np\n",
    "model_config = {\"lambda_reg\": 0.0}\n",
    "model_params = fit_linear_model(model_config, X, y)\n",
    "y_pred = predict_linear_model(model_params, X)\n",
    "np.mean((y-y_pred)**2)"
   ]
  },
  {
   "cell_type": "code",
   "execution_count": null,
   "metadata": {},
   "outputs": [],
   "source": [
    "import torch\n",
    "import torch.nn as nn\n",
    "from encoding_models.networks.body_builder import BodyBuilder\n",
    "from encoding_models.networks.train_dojo import TrainDojo\n",
    "from encoding_models.networks.data_loader import get_train_test_split_loaders\n",
    "from encoding_models.networks.optimizer import set_optimizer\n",
    "\n",
    "net_config = {\"input_dim\": (1, X.shape[1]),\n",
    "              \"layers_info\": [[\"flatten\"],\n",
    "                              [\"linear\", 256, True],\n",
    "                              [\"linear\", 256, True],\n",
    "                              [\"linear\", 256, True],\n",
    "                              [\"linear\", y.shape[1], True]],\n",
    "              \"output_act\": \"identity\",\n",
    "              \"hidden_act\": \"relu\",\n",
    "              \"dropout\": 0.0,\n",
    "              \"batch_norm\": False}\n",
    "\n",
    "network = BodyBuilder(**net_config)\n",
    "optimizer = set_optimizer(network, \"Adam\", 3e-4)\n",
    "criterion = nn.MSELoss()\n",
    "train_loader, test_loader = get_train_test_split_loaders(X, y, 0.1, batch_size=32)"
   ]
  },
  {
   "cell_type": "code",
   "execution_count": null,
   "metadata": {},
   "outputs": [],
   "source": [
    "dojo = TrainDojo(network, optimizer, criterion,\n",
    "                 train_loader, test_loader,\n",
    "                 log_batch_interval=10)"
   ]
  },
  {
   "cell_type": "code",
   "execution_count": null,
   "metadata": {},
   "outputs": [],
   "source": [
    "dojo.train(15)"
   ]
  },
  {
   "cell_type": "code",
   "execution_count": null,
   "metadata": {},
   "outputs": [],
   "source": []
  }
 ],
 "metadata": {
  "kernelspec": {
   "display_name": "Python3 (ma-vision)",
   "language": "python",
   "name": "ma-vision"
  },
  "language_info": {
   "codemirror_mode": {
    "name": "ipython",
    "version": 3
   },
   "file_extension": ".py",
   "mimetype": "text/x-python",
   "name": "python",
   "nbconvert_exporter": "python",
   "pygments_lexer": "ipython3",
   "version": "3.6.9"
  }
 },
 "nbformat": 4,
 "nbformat_minor": 4
}
