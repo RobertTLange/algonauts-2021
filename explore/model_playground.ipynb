{
 "cells": [
  {
   "cell_type": "code",
   "execution_count": 1,
   "metadata": {},
   "outputs": [],
   "source": [
    "%matplotlib inline\n",
    "%load_ext autoreload\n",
    "%autoreload 2\n",
    "%config InlineBackend.figure_format = 'retina'\n",
    "\n",
    "import sys\n",
    "sys.path.append(\"..\")"
   ]
  },
  {
   "cell_type": "code",
   "execution_count": 2,
   "metadata": {},
   "outputs": [],
   "source": [
    "from utils.helper import get_encoding_data"
   ]
  },
  {
   "cell_type": "code",
   "execution_count": 3,
   "metadata": {},
   "outputs": [
    {
     "data": {
      "text/plain": [
       "(1000, 232)"
      ]
     },
     "execution_count": 3,
     "metadata": {},
     "output_type": "execute_result"
    }
   ],
   "source": [
    "X, y, X_test = get_encoding_data(fmri_dir=\"../data/participants_data_v2021\",\n",
    "                                 activations_dir='../data/features/alexnet/pca_100',\n",
    "                                 layer_id=\"layer_1\",\n",
    "                                 subject_id=\"sub01\",\n",
    "                                 roi_type=\"V1\")\n",
    "y.shape"
   ]
  },
  {
   "cell_type": "code",
   "execution_count": 4,
   "metadata": {},
   "outputs": [
    {
     "name": "stderr",
     "output_type": "stream",
     "text": [
      "WARNING:absl:No GPU/TPU found, falling back to CPU. (Set TF_CPP_MIN_LOG_LEVEL=0 and rerun for more info.)\n"
     ]
    },
    {
     "data": {
      "text/plain": [
       "(0.3097689, 0.056024082)"
      ]
     },
     "execution_count": 4,
     "metadata": {},
     "output_type": "execute_result"
    }
   ],
   "source": [
    "from encoding_models.ols import fit_linear_model\n",
    "\n",
    "fit_linear_model({\"lambda_reg\": 0.0}, X, y, 10)"
   ]
  },
  {
   "cell_type": "code",
   "execution_count": 64,
   "metadata": {},
   "outputs": [],
   "source": [
    "import torch\n",
    "import torch.nn as nn\n",
    "from encoding_models.networks.body_builder import BodyBuilder\n",
    "from encoding_models.networks.train_dojo import TrainDojo\n",
    "from encoding_models.networks.data_loader import get_train_test_split_loaders\n",
    "from encoding_models.networks.optimizer import set_optimizer\n",
    "\n",
    "net_config = {\"input_dim\": (1, X.shape[1]),\n",
    "              \"layers_info\": [[\"flatten\"],\n",
    "                              [\"linear\", 256, True],\n",
    "                              [\"linear\", 256, True],\n",
    "                              [\"linear\", 256, True],\n",
    "                              [\"linear\", y.shape[1], True]],\n",
    "              \"output_act\": \"identity\",\n",
    "              \"hidden_act\": \"relu\",\n",
    "              \"dropout\": 0.0,\n",
    "              \"batch_norm\": False}\n",
    "\n",
    "network = BodyBuilder(**net_config)\n",
    "optimizer = set_optimizer(network, \"Adam\", 3e-4)\n",
    "criterion = nn.MSELoss()\n",
    "train_loader, test_loader = get_train_test_split_loaders(X, y, 0.1, batch_size=32)"
   ]
  },
  {
   "cell_type": "code",
   "execution_count": 65,
   "metadata": {},
   "outputs": [],
   "source": [
    "dojo = TrainDojo(network, optimizer, criterion,\n",
    "                 train_loader, test_loader,\n",
    "                 log_batch_interval=10)"
   ]
  },
  {
   "cell_type": "code",
   "execution_count": 66,
   "metadata": {},
   "outputs": [
    {
     "name": "stdout",
     "output_type": "stream",
     "text": [
      "Validation loss decreased (inf --> 0.238286).  Saving model ...\n",
      "Validation loss decreased (0.238286 --> 0.236586).  Saving model ...\n",
      "Validation loss decreased (0.236586 --> 0.236261).  Saving model ...\n",
      "Validation loss decreased (0.236261 --> 0.236028).  Saving model ...\n",
      "Validation loss decreased (0.236028 --> 0.235836).  Saving model ...\n",
      "Validation loss decreased (0.235836 --> 0.235629).  Saving model ...\n",
      "Validation loss decreased (0.235629 --> 0.235312).  Saving model ...\n",
      "Validation loss decreased (0.235312 --> 0.235244).  Saving model ...\n",
      "EarlyStopping counter: 1 out of 7\n",
      "EarlyStopping counter: 2 out of 7\n",
      "EarlyStopping counter: 3 out of 7\n",
      "EarlyStopping counter: 4 out of 7\n",
      "EarlyStopping counter: 5 out of 7\n",
      "EarlyStopping counter: 6 out of 7\n",
      "EarlyStopping counter: 7 out of 7\n"
     ]
    },
    {
     "data": {
      "text/plain": [
       "0.23524418473243713"
      ]
     },
     "execution_count": 66,
     "metadata": {},
     "output_type": "execute_result"
    }
   ],
   "source": [
    "dojo.train(15)"
   ]
  },
  {
   "cell_type": "code",
   "execution_count": null,
   "metadata": {},
   "outputs": [],
   "source": []
  }
 ],
 "metadata": {
  "kernelspec": {
   "display_name": "Python3 (ma-vision)",
   "language": "python",
   "name": "ma-vision"
  },
  "language_info": {
   "codemirror_mode": {
    "name": "ipython",
    "version": 3
   },
   "file_extension": ".py",
   "mimetype": "text/x-python",
   "name": "python",
   "nbconvert_exporter": "python",
   "pygments_lexer": "ipython3",
   "version": "3.6.9"
  }
 },
 "nbformat": 4,
 "nbformat_minor": 4
}
