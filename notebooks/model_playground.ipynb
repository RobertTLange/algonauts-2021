{
 "cells": [
  {
   "cell_type": "code",
   "execution_count": 1,
   "metadata": {},
   "outputs": [],
   "source": [
    "%matplotlib inline\n",
    "%load_ext autoreload\n",
    "%autoreload 2\n",
    "%config InlineBackend.figure_format = 'retina'\n",
    "\n",
    "import sys\n",
    "sys.path.append(\"..\")"
   ]
  },
  {
   "cell_type": "code",
   "execution_count": 2,
   "metadata": {},
   "outputs": [],
   "source": [
    "import numpy as np\n",
    "from utils.helper import get_encoding_data\n",
    "from utils.evaluate import evaluation_metrics"
   ]
  },
  {
   "cell_type": "code",
   "execution_count": 16,
   "metadata": {},
   "outputs": [],
   "source": [
    "X, y, X_test = get_encoding_data(fmri_dir=\"../data/participants_data_v2021\",\n",
    "                                 activations_dir='../data/features/alexnet/pca_250',\n",
    "                                 layer_id=\"layer_1\",\n",
    "                                 subject_id=\"sub01\",\n",
    "                                 roi_type=\"V1\")\n",
    "X_train, X_val = X[:900], X[900:]\n",
    "y_train, y_val = y[:900], y[900:]"
   ]
  },
  {
   "cell_type": "markdown",
   "metadata": {},
   "source": [
    "# Partial Least Squares"
   ]
  },
  {
   "cell_type": "code",
   "execution_count": 19,
   "metadata": {},
   "outputs": [
    {
     "data": {
      "text/plain": [
       "(0.16820513659038977, 0.2493464831897412, 0.3958016988315125)"
      ]
     },
     "execution_count": 19,
     "metadata": {},
     "output_type": "execute_result"
    }
   ],
   "source": [
    "from encoding_models.partial_ls import fit_partial_ls, predict_partial_ls\n",
    "model_config = {\"n_components\": 10}\n",
    "model_params = fit_partial_ls(model_config, X_train, y_train)\n",
    "y_pred = predict_partial_ls(model_params, X_val)\n",
    "# corr, mse, mae\n",
    "evaluation_metrics(y_val, y_pred)"
   ]
  },
  {
   "cell_type": "markdown",
   "metadata": {},
   "source": [
    "# Gradient Boosted Trees - Sklearn Version"
   ]
  },
  {
   "cell_type": "code",
   "execution_count": 31,
   "metadata": {},
   "outputs": [
    {
     "data": {
      "text/plain": [
       "(0.08204222318962938, 0.26505313191777513, 0.40837804329311156)"
      ]
     },
     "execution_count": 31,
     "metadata": {},
     "output_type": "execute_result"
    }
   ],
   "source": [
    "from encoding_models.trees import fit_gradboost_model, predict_gradboost_model\n",
    "model_config = {\"alpha\": 0.05, \"learning_rate\": 0.05, \"max_depth\": 10, \"n_estimators\": 50}\n",
    "model_params = fit_gradboost_model(model_config, X_train, y_train)\n",
    "y_pred = predict_gradboost_model(model_params, X_val)\n",
    "# corr, mse, mae\n",
    "evaluation_metrics(y_val, y_pred)"
   ]
  },
  {
   "cell_type": "markdown",
   "metadata": {},
   "source": [
    "# Elastic Net - Penalized Regression"
   ]
  },
  {
   "cell_type": "code",
   "execution_count": 17,
   "metadata": {},
   "outputs": [
    {
     "data": {
      "text/plain": [
       "(0.1370565067476729, 0.25007557346167286, 0.3961864815989181)"
      ]
     },
     "execution_count": 17,
     "metadata": {},
     "output_type": "execute_result"
    }
   ],
   "source": [
    "from encoding_models.elastic_net import fit_elastic_net, predict_elastic_net\n",
    "model_config = {\"alpha\": 0.025, \"l1_ratio\": 0.5}\n",
    "model_params = fit_elastic_net(model_config, X_train, y_train)\n",
    "y_pred = predict_elastic_net(model_params, X_val)\n",
    "# corr, mse, mae\n",
    "evaluation_metrics(y_val, y_pred)"
   ]
  },
  {
   "cell_type": "markdown",
   "metadata": {},
   "source": [
    "# Linear Regression"
   ]
  },
  {
   "cell_type": "code",
   "execution_count": 32,
   "metadata": {},
   "outputs": [
    {
     "name": "stderr",
     "output_type": "stream",
     "text": [
      "WARNING:absl:No GPU/TPU found, falling back to CPU. (Set TF_CPP_MIN_LOG_LEVEL=0 and rerun for more info.)\n"
     ]
    },
    {
     "data": {
      "text/plain": [
       "(0.07998744740767788, DeviceArray(0.32005557, dtype=float32), 0.43471348)"
      ]
     },
     "execution_count": 32,
     "metadata": {},
     "output_type": "execute_result"
    }
   ],
   "source": [
    "from encoding_models.ols import fit_linear_model, predict_linear_model\n",
    "model_config = {\"lambda_reg\": 0.0}\n",
    "model_params = fit_linear_model(model_config, X_train, y_train)\n",
    "y_pred = predict_linear_model(model_params, X_val)\n",
    "# corr, mse, mae\n",
    "evaluation_metrics(y_val, y_pred)"
   ]
  },
  {
   "cell_type": "markdown",
   "metadata": {},
   "source": [
    "# Multi-Output MLP Networks"
   ]
  },
  {
   "cell_type": "code",
   "execution_count": 34,
   "metadata": {},
   "outputs": [
    {
     "data": {
      "text/plain": [
       "(0.0898770722254375, 0.2556076024462942, 0.4001329879328703)"
      ]
     },
     "execution_count": 34,
     "metadata": {},
     "output_type": "execute_result"
    }
   ],
   "source": [
    "from encoding_models.mlp_networks import fit_mlp_model, predict_mlp_model\n",
    "model_config = {\"num_hidden_layers\": 2,\n",
    "                \"num_hidden_units\": 64,\n",
    "                \"hidden_act\": \"relu\",\n",
    "                \"optimizer_class\": \"Adam\",\n",
    "                \"learning_rate\": 3e-04,\n",
    "                \"w_decay\": 1e-07,\n",
    "                \"dropout\": 0.0}\n",
    "model_params = fit_mlp_model(model_config, X_train, y_train)\n",
    "y_pred = predict_mlp_model(model_params, X_val)\n",
    "# corr, mse, mae\n",
    "evaluation_metrics(y_val, y_pred)"
   ]
  }
 ],
 "metadata": {
  "kernelspec": {
   "display_name": "Python3 (ma-vision)",
   "language": "python",
   "name": "ma-vision"
  },
  "language_info": {
   "codemirror_mode": {
    "name": "ipython",
    "version": 3
   },
   "file_extension": ".py",
   "mimetype": "text/x-python",
   "name": "python",
   "nbconvert_exporter": "python",
   "pygments_lexer": "ipython3",
   "version": "3.6.9"
  }
 },
 "nbformat": 4,
 "nbformat_minor": 4
}
