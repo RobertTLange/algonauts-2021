{
 "cells": [
  {
   "cell_type": "code",
   "execution_count": 2,
   "metadata": {},
   "outputs": [],
   "source": [
    "%matplotlib inline\n",
    "%load_ext autoreload\n",
    "%autoreload 2\n",
    "%config InlineBackend.figure_format = 'retina'\n",
    "\n",
    "import sys\n",
    "sys.path.append(\"..\")"
   ]
  },
  {
   "cell_type": "code",
   "execution_count": 3,
   "metadata": {},
   "outputs": [],
   "source": [
    "import numpy as np\n",
    "from utils.helper import get_encoding_data\n",
    "from utils.evaluate import evaluation_metrics"
   ]
  },
  {
   "cell_type": "code",
   "execution_count": 4,
   "metadata": {},
   "outputs": [
    {
     "data": {
      "text/plain": [
       "(1000, 232)"
      ]
     },
     "execution_count": 4,
     "metadata": {},
     "output_type": "execute_result"
    }
   ],
   "source": [
    "X, y, X_test = get_encoding_data(fmri_dir=\"../data/participants_data_v2021\",\n",
    "                                 activations_dir='../data/features/alexnet/pca_100',\n",
    "                                 layer_id=\"layer_1\",\n",
    "                                 subject_id=\"sub01\",\n",
    "                                 roi_type=\"V1\")\n",
    "y.shape"
   ]
  },
  {
   "cell_type": "markdown",
   "metadata": {},
   "source": [
    "# Teapot (Evolutionary Algorithm) - Run long with many features"
   ]
  },
  {
   "cell_type": "code",
   "execution_count": null,
   "metadata": {},
   "outputs": [],
   "source": []
  },
  {
   "cell_type": "markdown",
   "metadata": {},
   "source": [
    "# Gradient Boosted Trees (Sklearn Version)"
   ]
  },
  {
   "cell_type": "code",
   "execution_count": null,
   "metadata": {},
   "outputs": [],
   "source": []
  },
  {
   "cell_type": "markdown",
   "metadata": {},
   "source": [
    "# Elastic Net (Penalized Regression)"
   ]
  },
  {
   "cell_type": "code",
   "execution_count": 7,
   "metadata": {},
   "outputs": [
    {
     "name": "stderr",
     "output_type": "stream",
     "text": [
      "/Users/rtl/anaconda2/envs/ma-vision/lib/python3.6/site-packages/sklearn/utils/validation.py:72: FutureWarning: Pass l1_ratio=0.5 as keyword args. From version 1.0 (renaming of 0.25) passing these as positional arguments will result in an error\n",
      "  \"will result in an error\", FutureWarning)\n"
     ]
    },
    {
     "data": {
      "text/plain": [
       "(6.414031145934629e-26, 0.2367415187446194, 0.38535971392203006)"
      ]
     },
     "execution_count": 7,
     "metadata": {},
     "output_type": "execute_result"
    }
   ],
   "source": [
    "from encoding_models.elastic_net import fit_elastic_net, predict_elastic_net\n",
    "model_config = {\"alpha\": 1, \"l1_ratio\": 0.5}\n",
    "model_params = fit_elastic_net(model_config, X, y)\n",
    "y_pred = predict_elastic_net(model_params, X)\n",
    "# mse, mae, corr\n",
    "evaluation_metrics(y, y_pred)"
   ]
  },
  {
   "cell_type": "markdown",
   "metadata": {},
   "source": [
    "# Linear Regression"
   ]
  },
  {
   "cell_type": "code",
   "execution_count": 8,
   "metadata": {},
   "outputs": [
    {
     "name": "stderr",
     "output_type": "stream",
     "text": [
      "WARNING:absl:No GPU/TPU found, falling back to CPU. (Set TF_CPP_MIN_LOG_LEVEL=0 and rerun for more info.)\n"
     ]
    },
    {
     "data": {
      "text/plain": [
       "(0.38924645279404424, DeviceArray(0.20087245, dtype=float32), 0.35298052)"
      ]
     },
     "execution_count": 8,
     "metadata": {},
     "output_type": "execute_result"
    }
   ],
   "source": [
    "from encoding_models.ols import fit_linear_model, predict_linear_model\n",
    "model_config = {\"lambda_reg\": 0.0}\n",
    "model_params = fit_linear_model(model_config, X, y)\n",
    "y_pred = predict_linear_model(model_params, X)\n",
    "# mse, mae, corr\n",
    "evaluation_metrics(y, y_pred)"
   ]
  },
  {
   "cell_type": "markdown",
   "metadata": {},
   "source": [
    "# Multi-Output MLP Networks"
   ]
  },
  {
   "cell_type": "code",
   "execution_count": 10,
   "metadata": {},
   "outputs": [
    {
     "data": {
      "text/plain": [
       "(0.13267876685477542, 0.23266148782750287, 0.38203988972485065)"
      ]
     },
     "execution_count": 10,
     "metadata": {},
     "output_type": "execute_result"
    }
   ],
   "source": [
    "from encoding_models.mlp_networks import fit_mlp_model, predict_mlp_model\n",
    "model_config = {\"num_hidden_layers\": 2,\n",
    "                \"num_hidden_units\": 64,\n",
    "                \"hidden_act\": \"relu\",\n",
    "                \"optimizer_class\": \"Adam\",\n",
    "                \"learning_rate\": 3e-04,\n",
    "                \"w_decay\": 1e-07,\n",
    "                \"dropout\": 0.0}\n",
    "model_params = fit_mlp_model(model_config, X, y)\n",
    "y_pred = predict_mlp_model(model_params, X)\n",
    "# mse, mae, corr\n",
    "evaluation_metrics(y, y_pred)"
   ]
  }
 ],
 "metadata": {
  "kernelspec": {
   "display_name": "Python3 (ma-vision)",
   "language": "python",
   "name": "ma-vision"
  },
  "language_info": {
   "codemirror_mode": {
    "name": "ipython",
    "version": 3
   },
   "file_extension": ".py",
   "mimetype": "text/x-python",
   "name": "python",
   "nbconvert_exporter": "python",
   "pygments_lexer": "ipython3",
   "version": "3.6.9"
  }
 },
 "nbformat": 4,
 "nbformat_minor": 4
}
