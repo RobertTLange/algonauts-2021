{
 "cells": [
  {
   "cell_type": "code",
   "execution_count": 1,
   "metadata": {},
   "outputs": [],
   "source": [
    "%matplotlib inline\n",
    "%load_ext autoreload\n",
    "%autoreload 2\n",
    "%config InlineBackend.figure_format = 'retina'"
   ]
  },
  {
   "cell_type": "code",
   "execution_count": 2,
   "metadata": {},
   "outputs": [],
   "source": [
    "from mle_toolbox import load_result_logs\n",
    "from mle_toolbox.utils import load_meta_log\n",
    "from mle_toolbox.visualize import visualize_2D_grid\n",
    "\n",
    "import os\n",
    "import sys\n",
    "\n",
    "sys.path.append('..')\n",
    "import numpy as np\n",
    "import matplotlib.pyplot as plt"
   ]
  },
  {
   "cell_type": "code",
   "execution_count": 10,
   "metadata": {},
   "outputs": [
    {
     "name": "stdout",
     "output_type": "stream",
     "text": [
      "Keys: <KeysViewHDF5 ['seed_0']>\n"
     ]
    }
   ],
   "source": [
    "import h5py\n",
    "filename = \"../experiments/elastic_vgg_bo_25/21-06-02_b_1_eval_35/logs/21-06-02_b_1_eval_35_seed_0.hdf5\"\n",
    "\n",
    "with h5py.File(filename, \"r\") as f:\n",
    "    # List all groups\n",
    "    print(\"Keys: %s\" % f.keys())\n",
    "    a_group_key = list(f.keys())[0]\n",
    "\n",
    "    # Get the data\n",
    "    data = list(f[a_group_key][\"stats\"]['best_bo_score'])"
   ]
  },
  {
   "cell_type": "code",
   "execution_count": 11,
   "metadata": {},
   "outputs": [
    {
     "data": {
      "text/plain": [
       "[-0.083416075, 0.08301921, 0.093796946, 0.093796946, 0.093796946, 0.093796946]"
      ]
     },
     "execution_count": 11,
     "metadata": {},
     "output_type": "execute_result"
    }
   ],
   "source": [
    "data"
   ]
  },
  {
   "cell_type": "markdown",
   "metadata": {},
   "source": [
    "# VGG - MLP - 50 BO Iters"
   ]
  },
  {
   "cell_type": "code",
   "execution_count": null,
   "metadata": {},
   "outputs": [],
   "source": [
    "meta_log = load_meta_log(\"../experiments/mlp_vgg_bo_50/meta_log.hdf5\")"
   ]
  },
  {
   "cell_type": "code",
   "execution_count": null,
   "metadata": {},
   "outputs": [],
   "source": [
    "plt.plot(np.arange(400), meta_log.b_1_eval_0.stats.best_bo_score.mean)\n",
    "num_bo_per_layer = 50\n",
    "for i in range(8):\n",
    "    plt.axvline(num_bo_per_layer-1 + i*num_bo_per_layer, ls=\"--\", c=\"red\", alpha=0.5)\n"
   ]
  },
  {
   "cell_type": "markdown",
   "metadata": {},
   "source": [
    "# AlexNet - MLP - 20 BO Iters"
   ]
  },
  {
   "cell_type": "code",
   "execution_count": null,
   "metadata": {},
   "outputs": [],
   "source": [
    "experiment_dir = \"../experiments/mlp_alexnet_bo_20\"\n",
    "meta_log, hyper_log = load_result_logs(experiment_dir)"
   ]
  },
  {
   "cell_type": "code",
   "execution_count": null,
   "metadata": {},
   "outputs": [],
   "source": [
    "plt.plot(np.arange(160), meta_log.b_1_eval_0.stats.best_bo_score.mean)\n",
    "num_bo_per_layer = 20\n",
    "for i in range(8):\n",
    "    plt.axvline(19 + i*20, ls=\"--\", c=\"red\", alpha=0.5)\n"
   ]
  },
  {
   "cell_type": "code",
   "execution_count": null,
   "metadata": {},
   "outputs": [],
   "source": [
    "visualize_2D_grid(hyper_log,\n",
    "                  params_to_plot=[\"roi_type\", \"subject_id\"],\n",
    "                  target_to_plot=\"best_bo_score\",\n",
    "                  plot_title=\"MLP Encoder - Best AlexNet Layer\",\n",
    "                  xy_labels=[\"Region of Interest\", \"Subject ID\"],\n",
    "                  variable_name=\"Correlation: fMRI - Encoder\",\n",
    "                  min_heat=0.04, max_heat=0.3)"
   ]
  },
  {
   "cell_type": "code",
   "execution_count": null,
   "metadata": {},
   "outputs": [],
   "source": [
    "heat_array, range_x, range_y = visualize_2D_grid(hyper_log,\n",
    "                                                 params_to_plot=[\"roi_type\", \"subject_id\"],\n",
    "                                                 target_to_plot=\"best_bo_score\",\n",
    "                                                 return_array=True)\n",
    "region_sub_mean = heat_array.mean(axis=0)\n",
    "fig, ax = plt.subplots(figsize=(10,5))\n",
    "ax.bar(range_x, region_sub_mean)\n",
    "ax.spines['top'].set_visible(False)\n",
    "ax.spines['right'].set_visible(False)\n",
    "ax.set_xlabel(\"Region of Interest\")\n",
    "ax.set_ylabel(\"Correlation\")\n",
    "ax.set_title(\"Subject-Meaned Correlation: fMRI - Encoder\")"
   ]
  },
  {
   "cell_type": "code",
   "execution_count": null,
   "metadata": {},
   "outputs": [],
   "source": [
    "region_roi_mean = heat_array[:, :-1].mean(axis=1)\n",
    "fig, ax = plt.subplots(figsize=(14,5))\n",
    "ax.bar(range_y, region_sub_mean)\n",
    "ax.spines['top'].set_visible(False)\n",
    "ax.spines['right'].set_visible(False)\n",
    "ax.set_xlabel(\"Subject ID\")\n",
    "ax.set_ylabel(\"Correlation\")\n",
    "ax.set_title(\"ROI-Meaned Correlation: fMRI - Encoder\")"
   ]
  },
  {
   "cell_type": "code",
   "execution_count": null,
   "metadata": {},
   "outputs": [],
   "source": [
    "# Sort scores for spreadsheet storage\n",
    "idx = []\n",
    "for v in [\"V1\", \"V2\", \"V3\", \"V4\", \"LOC\", \"EBA\", \"FFA\", \"STS\", \"PPA\", \"WB\"]:\n",
    "    idx.append(np.where(range_x == v)[0][0])\n",
    "region_sub_mean[idx]"
   ]
  },
  {
   "cell_type": "code",
   "execution_count": null,
   "metadata": {},
   "outputs": [],
   "source": []
  }
 ],
 "metadata": {
  "kernelspec": {
   "display_name": "Python3 (ma-vision)",
   "language": "python",
   "name": "ma-vision"
  },
  "language_info": {
   "codemirror_mode": {
    "name": "ipython",
    "version": 3
   },
   "file_extension": ".py",
   "mimetype": "text/x-python",
   "name": "python",
   "nbconvert_exporter": "python",
   "pygments_lexer": "ipython3",
   "version": "3.6.9"
  }
 },
 "nbformat": 4,
 "nbformat_minor": 4
}
