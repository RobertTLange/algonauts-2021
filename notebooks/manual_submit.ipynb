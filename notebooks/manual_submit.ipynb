{
 "cells": [
  {
   "cell_type": "code",
   "execution_count": 1,
   "metadata": {},
   "outputs": [],
   "source": [
    "%matplotlib inline\n",
    "%load_ext autoreload\n",
    "%autoreload 2\n",
    "%config InlineBackend.figure_format = 'retina'"
   ]
  },
  {
   "cell_type": "code",
   "execution_count": 2,
   "metadata": {},
   "outputs": [],
   "source": [
    "import os\n",
    "import sys\n",
    "\n",
    "sys.path.append('..')\n",
    "import numpy as np\n",
    "import matplotlib.pyplot as plt\n",
    "from mle_toolbox import load_result_logs\n",
    "from mle_toolbox.utils import load_meta_log\n",
    "from utils.helper import get_best_roi_models, zip, save_dict"
   ]
  },
  {
   "cell_type": "markdown",
   "metadata": {},
   "source": [
    "# Load logs and create submission"
   ]
  },
  {
   "cell_type": "code",
   "execution_count": 9,
   "metadata": {},
   "outputs": [],
   "source": [
    "#experiment_dir = \"../experiments/roi/elastic_resnet50_bo_50\"\n",
    "#experiment_dir = \"../experiments/wb/elastic_resnet50_bo_15\"\n",
    "\n",
    "#experiment_dir = \"../experiments/roi/elastic_efficientnet_b3_bo_50\"\n",
    "#experiment_dir = \"../experiments/wb/elastic_efficientnet_b3_bo_50\"\n",
    "\n",
    "#experiment_dir = \"../experiments/roi/elastic_resnext50_32x4d_bo_50\"\n",
    "#experiment_dir = \"../experiments/wb/elastic_resnext50_32x4d_bo_50\"\n",
    "#experiment_dir = \"../data/experiments/roi/mlp_efficientnet_b3_bo_50\"\n",
    "#experiment_dir = \"../data/experiments/wb/mlp_efficientnet_b3_bo_30\"\n",
    "#experiment_dir = \"../data/experiments/roi/elastic_vone_resnet50_bo_50\"\n",
    "#experiment_dir = \"../data/experiments/wb/elastic_vone_resnet50_bo_30\"\n",
    "#experiment_dir = \"../data/experiments/roi/elastic_vone_resnet50_at_bo_50\"\n",
    "#experiment_dir = \"../data/experiments/wb/elastic_vone_resnet50_at_bo_30\"\n",
    "\n",
    "#experiment_dir = \"../data/experiments/roi/elastic_vone_cornets_bo_50\"\n",
    "experiment_dir = \"../data/experiments/wb/elastic_vone_cornets_bo_30\"\n",
    "\n",
    "meta_log, hyper_log = load_result_logs(experiment_dir)"
   ]
  },
  {
   "cell_type": "code",
   "execution_count": 10,
   "metadata": {},
   "outputs": [
    {
     "data": {
      "text/plain": [
       "'experiments/wb/elastic_vone_cornets_bo_30/21-06-14_b_1_eval_0/'"
      ]
     },
     "execution_count": 10,
     "metadata": {},
     "output_type": "execute_result"
    }
   ],
   "source": [
    "meta_log['b_1_eval_0'].meta.experiment_dir"
   ]
  },
  {
   "cell_type": "markdown",
   "metadata": {},
   "source": [
    "# Get submission ready based on `experiment_dir`"
   ]
  },
  {
   "cell_type": "code",
   "execution_count": 13,
   "metadata": {},
   "outputs": [],
   "source": [
    "track = \"full_track\"\n",
    "if track == 'full_track': ROIs = ['WB']\n",
    "else: ROIs = ['LOC','FFA','STS','EBA','PPA','V1','V2','V3','V4']\n",
    "\n",
    "all_subjects = ['sub01', 'sub02', 'sub03', 'sub04', 'sub05',\n",
    "                'sub06', 'sub07', 'sub08', 'sub09', 'sub10']\n",
    "\n",
    "# Load in individual test npy files (subject/roi)\n",
    "results = {}\n",
    "for ROI in ROIs:\n",
    "    ROI_results = {}\n",
    "    for sub in all_subjects:\n",
    "        hyper_sub = hyper_log[hyper_log.subject_id == sub]\n",
    "        hyper_sub_roi = hyper_sub[hyper_sub.roi_type == ROI]\n",
    "        # experiment_dir = hyper_sub_roi.experiment_dir.iloc[0]\n",
    "        eval_id = hyper_sub_roi.run_id.iloc[0]\n",
    "        experiment_dir = meta_log[eval_id].meta.experiment_dir\n",
    "        mypath = os.path.join(\"../data/\" + experiment_dir, \"extra\")\n",
    "        try:\n",
    "            sub_roi_layer = [f for f in os.listdir(mypath) if os.path.isfile(os.path.join(mypath, f))]\n",
    "            ROI_result = np.load(mypath + \"/\" + sub_roi_layer[0])\n",
    "            ROI_results[sub] = ROI_result\n",
    "        except:\n",
    "            print(mypath)\n",
    "            continue\n",
    "    results[ROI] = ROI_results"
   ]
  },
  {
   "cell_type": "code",
   "execution_count": 14,
   "metadata": {},
   "outputs": [
    {
     "name": "stdout",
     "output_type": "stream",
     "text": [
      "dict_keys(['WB'])\n",
      "dict_keys(['sub01', 'sub02', 'sub03', 'sub04', 'sub05', 'sub06', 'sub07', 'sub08', 'sub09', 'sub10'])\n",
      "(102, 18222)\n"
     ]
    }
   ],
   "source": [
    "print(results.keys())\n",
    "print(results['WB'].keys())\n",
    "print(results['WB']['sub01'].shape)"
   ]
  },
  {
   "cell_type": "code",
   "execution_count": 15,
   "metadata": {},
   "outputs": [],
   "source": [
    "# Create model_submission sub directory\n",
    "model_name = \"2021-06-15_elastic_vone_cornets_bo_50\"\n",
    "sub_dir = f\"../data/submissions/{model_name}/{track}/\"\n",
    "if not os.path.exists(sub_dir):\n",
    "    os.makedirs(sub_dir)\n",
    "    \n",
    "save_dict(results, sub_dir + track + \".pkl\")\n",
    "zip(sub_dir, sub_dir + track + \".zip\")"
   ]
  },
  {
   "cell_type": "markdown",
   "metadata": {},
   "source": [
    "# Manual Training of Final Predictor Networks"
   ]
  },
  {
   "cell_type": "code",
   "execution_count": 8,
   "metadata": {},
   "outputs": [
    {
     "ename": "KeyError",
     "evalue": "'dropout'",
     "output_type": "error",
     "traceback": [
      "\u001b[0;31m---------------------------------------------------------------------------\u001b[0m",
      "\u001b[0;31mKeyError\u001b[0m                                  Traceback (most recent call last)",
      "\u001b[0;32m<ipython-input-8-94a427d9e3a8>\u001b[0m in \u001b[0;36m<module>\u001b[0;34m\u001b[0m\n\u001b[1;32m     10\u001b[0m     \u001b[0mbest_config\u001b[0m \u001b[0;34m=\u001b[0m \u001b[0;34m{\u001b[0m\u001b[0;34m}\u001b[0m\u001b[0;34m\u001b[0m\u001b[0;34m\u001b[0m\u001b[0m\n\u001b[1;32m     11\u001b[0m     \u001b[0;32mfor\u001b[0m \u001b[0mc_key\u001b[0m \u001b[0;32min\u001b[0m \u001b[0mconfig_keys\u001b[0m\u001b[0;34m:\u001b[0m\u001b[0;34m\u001b[0m\u001b[0;34m\u001b[0m\u001b[0m\n\u001b[0;32m---> 12\u001b[0;31m         \u001b[0;32mif\u001b[0m \u001b[0mtype\u001b[0m\u001b[0;34m(\u001b[0m\u001b[0mmeta_log\u001b[0m\u001b[0;34m[\u001b[0m\u001b[0me_id\u001b[0m\u001b[0;34m]\u001b[0m\u001b[0;34m.\u001b[0m\u001b[0mstats\u001b[0m\u001b[0;34m[\u001b[0m\u001b[0mc_key\u001b[0m\u001b[0;34m]\u001b[0m\u001b[0;34m)\u001b[0m \u001b[0;34m==\u001b[0m \u001b[0mlist\u001b[0m\u001b[0;34m:\u001b[0m\u001b[0;34m\u001b[0m\u001b[0;34m\u001b[0m\u001b[0m\n\u001b[0m\u001b[1;32m     13\u001b[0m             \u001b[0mconfig_value\u001b[0m \u001b[0;34m=\u001b[0m \u001b[0mmeta_log\u001b[0m\u001b[0;34m[\u001b[0m\u001b[0me_id\u001b[0m\u001b[0;34m]\u001b[0m\u001b[0;34m.\u001b[0m\u001b[0mstats\u001b[0m\u001b[0;34m[\u001b[0m\u001b[0mc_key\u001b[0m\u001b[0;34m]\u001b[0m\u001b[0;34m[\u001b[0m\u001b[0;36m0\u001b[0m\u001b[0;34m]\u001b[0m\u001b[0;34m[\u001b[0m\u001b[0mbest_id\u001b[0m\u001b[0;34m]\u001b[0m\u001b[0;34m.\u001b[0m\u001b[0mdecode\u001b[0m\u001b[0;34m(\u001b[0m\u001b[0;34m)\u001b[0m\u001b[0;34m\u001b[0m\u001b[0;34m\u001b[0m\u001b[0m\n\u001b[1;32m     14\u001b[0m         \u001b[0;32melse\u001b[0m\u001b[0;34m:\u001b[0m\u001b[0;34m\u001b[0m\u001b[0;34m\u001b[0m\u001b[0m\n",
      "\u001b[0;32m~/anaconda2/envs/ma-vision/lib/python3.6/site-packages/dotmap/__init__.py\u001b[0m in \u001b[0;36m__getitem__\u001b[0;34m(self, k)\u001b[0m\n\u001b[1;32m     91\u001b[0m             \u001b[0;31m# automatically extend to new DotMap\u001b[0m\u001b[0;34m\u001b[0m\u001b[0;34m\u001b[0m\u001b[0;34m\u001b[0m\u001b[0m\n\u001b[1;32m     92\u001b[0m             \u001b[0mself\u001b[0m\u001b[0;34m[\u001b[0m\u001b[0mk\u001b[0m\u001b[0;34m]\u001b[0m \u001b[0;34m=\u001b[0m \u001b[0mself\u001b[0m\u001b[0;34m.\u001b[0m\u001b[0m__class__\u001b[0m\u001b[0;34m(\u001b[0m\u001b[0;34m)\u001b[0m\u001b[0;34m\u001b[0m\u001b[0;34m\u001b[0m\u001b[0m\n\u001b[0;32m---> 93\u001b[0;31m         \u001b[0;32mreturn\u001b[0m \u001b[0mself\u001b[0m\u001b[0;34m.\u001b[0m\u001b[0m_map\u001b[0m\u001b[0;34m[\u001b[0m\u001b[0mk\u001b[0m\u001b[0;34m]\u001b[0m\u001b[0;34m\u001b[0m\u001b[0;34m\u001b[0m\u001b[0m\n\u001b[0m\u001b[1;32m     94\u001b[0m \u001b[0;34m\u001b[0m\u001b[0m\n\u001b[1;32m     95\u001b[0m     \u001b[0;32mdef\u001b[0m \u001b[0m__setattr__\u001b[0m\u001b[0;34m(\u001b[0m\u001b[0mself\u001b[0m\u001b[0;34m,\u001b[0m \u001b[0mk\u001b[0m\u001b[0;34m,\u001b[0m \u001b[0mv\u001b[0m\u001b[0;34m)\u001b[0m\u001b[0;34m:\u001b[0m\u001b[0;34m\u001b[0m\u001b[0;34m\u001b[0m\u001b[0m\n",
      "\u001b[0;31mKeyError\u001b[0m: 'dropout'"
     ]
    }
   ],
   "source": [
    "from utils.helper import get_encoding_data\n",
    "from encoding_models import EncoderFitter\n",
    "import shutil\n",
    "\n",
    "config_keys = ['dropout', 'hidden_act', 'learning_rate', 'num_hidden_layers',\n",
    "               'num_hidden_units', 'optimizer_class', 'w_decay']\n",
    "\n",
    "for e_id in meta_log.eval_ids:\n",
    "    best_id = np.argmax(meta_log[e_id].stats.best_bo_score.mean)\n",
    "    best_config = {}\n",
    "    for c_key in config_keys:\n",
    "        if type(meta_log[e_id].stats[c_key]) == list:\n",
    "            config_value = meta_log[e_id].stats[c_key][0][best_id].decode()\n",
    "        else:\n",
    "            config_value = meta_log[e_id].stats[c_key].mean[best_id]\n",
    "        best_config[c_key] = config_value\n",
    "    best_layer = meta_log[e_id].stats['layer_id'][0][best_id].decode()\n",
    "    #print(model_config, layer_id)\n",
    "    \n",
    "    subject_id = hyper_log[hyper_log.run_id == e_id].subject_id.iloc[0]\n",
    "    roi_type = hyper_log[hyper_log.run_id == e_id].roi_type.iloc[0]\n",
    "    \n",
    "    X, y, X_test = get_encoding_data(fmri_dir=\"../data/participants_data_v2021\",\n",
    "                                     activations_dir='../data/features/alexnet/pca_100',\n",
    "                                     layer_id=best_layer,\n",
    "                                     subject_id=subject_id,\n",
    "                                     roi_type=roi_type)\n",
    "    fitter = EncoderFitter(\"mlp_network\", 10,\n",
    "                           X, y, X_test)\n",
    "    model_params, y_pred = fitter.predict_on_test(best_config)\n",
    "    dirpath = \"../\" + meta_log[e_id].meta.experiment_dir + \"extra/\"\n",
    "    save_fname = dirpath + subject_id + \"_\" + roi_type + \"_\" + best_layer + \"_test.npy\"\n",
    "    if os.path.exists(dirpath) and os.path.isdir(dirpath):\n",
    "        shutil.rmtree(dirpath)\n",
    "    os.makedirs(dirpath)\n",
    "    np.save(save_fname , y_pred)\n",
    "    print(e_id, save_fname)"
   ]
  },
  {
   "cell_type": "markdown",
   "metadata": {},
   "source": [
    "# Construct ROI Submission from Invidually Best Results"
   ]
  },
  {
   "cell_type": "code",
   "execution_count": null,
   "metadata": {},
   "outputs": [],
   "source": [
    "roi_paths = get_best_roi_models('../best_roi_models.json', prepend=\"../data/\")"
   ]
  },
  {
   "cell_type": "code",
   "execution_count": null,
   "metadata": {},
   "outputs": [],
   "source": [
    "roi_paths"
   ]
  },
  {
   "cell_type": "code",
   "execution_count": null,
   "metadata": {},
   "outputs": [],
   "source": [
    "# ROI - Subject ID\n",
    "\n",
    "ROIs = ['LOC', 'FFA','STS','EBA','PPA','V1','V2','V3','V4']\n",
    "\n",
    "all_subjects = ['sub01', 'sub02', 'sub03', 'sub04', 'sub05',\n",
    "                'sub06', 'sub07', 'sub08', 'sub09', 'sub10']"
   ]
  },
  {
   "cell_type": "code",
   "execution_count": null,
   "metadata": {},
   "outputs": [],
   "source": [
    "results = {}\n",
    "for ROI in ROIs:\n",
    "    print(ROI)\n",
    "    experiment_dir = roi_paths[ROI][\"path\"]\n",
    "    meta_log, hyper_log = load_result_logs(experiment_dir)\n",
    "    ROI_results = {}\n",
    "    for sub in all_subjects:\n",
    "        hyper_sub = hyper_log[hyper_log.subject_id == sub]\n",
    "        hyper_sub_roi = hyper_sub[hyper_sub.roi_type == ROI]\n",
    "        # experiment_dir = hyper_sub_roi.experiment_dir.iloc[0]\n",
    "        eval_id = hyper_sub_roi.run_id.iloc[0]\n",
    "        experiment_dir = meta_log[eval_id].meta.experiment_dir\n",
    "        mypath = os.path.join(\"../data/\" + experiment_dir, \"extra\")\n",
    "        try:\n",
    "            sub_roi_layer = [f for f in os.listdir(mypath) if os.path.isfile(os.path.join(mypath, f))]\n",
    "            ROI_result = np.load(mypath + \"/\" + sub_roi_layer[0])\n",
    "            ROI_results[sub] = ROI_result\n",
    "        except:\n",
    "            print(mypath)\n",
    "            continue\n",
    "    results[ROI] = ROI_results    "
   ]
  },
  {
   "cell_type": "code",
   "execution_count": null,
   "metadata": {},
   "outputs": [],
   "source": [
    "# Create model_submission sub directory\n",
    "model_name = \"2021-06-15_combined\"\n",
    "sub_dir = f\"../data/submissions/{model_name}/mini-track/\"\n",
    "if not os.path.exists(sub_dir):\n",
    "    os.makedirs(sub_dir)\n",
    "    \n",
    "save_dict(results, sub_dir + track + \".pkl\")\n",
    "zip(sub_dir, sub_dir + track + \".zip\")"
   ]
  }
 ],
 "metadata": {
  "kernelspec": {
   "display_name": "Python3 (ma-vision)",
   "language": "python",
   "name": "ma-vision"
  },
  "language_info": {
   "codemirror_mode": {
    "name": "ipython",
    "version": 3
   },
   "file_extension": ".py",
   "mimetype": "text/x-python",
   "name": "python",
   "nbconvert_exporter": "python",
   "pygments_lexer": "ipython3",
   "version": "3.6.9"
  }
 },
 "nbformat": 4,
 "nbformat_minor": 4
}
