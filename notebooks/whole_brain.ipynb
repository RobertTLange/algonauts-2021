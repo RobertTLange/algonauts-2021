{
 "cells": [
  {
   "cell_type": "code",
   "execution_count": 1,
   "metadata": {},
   "outputs": [],
   "source": [
    "%matplotlib inline\n",
    "%load_ext autoreload\n",
    "%autoreload 2\n",
    "%config InlineBackend.figure_format = 'retina'\n",
    "\n",
    "import sys\n",
    "sys.path.append(\"..\")"
   ]
  },
  {
   "cell_type": "markdown",
   "metadata": {},
   "source": [
    "# Idea: Bootstrap Predictions from ROIs for WB"
   ]
  },
  {
   "cell_type": "code",
   "execution_count": 4,
   "metadata": {},
   "outputs": [],
   "source": [
    "from utils.helper import get_fmri, get_encoding_data\n",
    "sub = 'sub01'\n",
    "roi = 'WB'\n",
    "roi_sub = get_fmri('../data/participants_data_v2021', sub, roi, mean=True)"
   ]
  },
  {
   "cell_type": "code",
   "execution_count": 8,
   "metadata": {},
   "outputs": [
    {
     "data": {
      "text/plain": [
       "(1000, 50)"
      ]
     },
     "execution_count": 8,
     "metadata": {},
     "output_type": "execute_result"
    }
   ],
   "source": [
    "def get_expert_encoding_data(best_roi_models,\n",
    "                             fmri_dir='../data/participants_data_v2021',\n",
    "                             activations_dir='../data/features/alexnet/pca_50',\n",
    "                             layer_id='layer_1', subject_id='sub01'):\n",
    "    X, y, X_test = get_encoding_data(fmri_dir, activations_dir,\n",
    "                                     layer_id, subject_id, roi_type)\n",
    "    \n",
    "    all_rois = ['LOC', 'FFA', 'STS', 'EBA', 'PPA',\n",
    "                'V1', 'V2', 'V3', 'V4', 'WB']\n",
    "    for roi in all_rois:\n",
    "        expert_path = best_roi_models[roi][subject_id]\n",
    "        X_roi, X_roi_test = load_and_predict(expert_path, X, X_test)\n",
    "        # Stack features together \n",
    "    return"
   ]
  },
  {
   "cell_type": "code",
   "execution_count": 10,
   "metadata": {},
   "outputs": [],
   "source": [
    "import json\n",
    "\n",
    "with open('../best_roi_models.json') as json_file:\n",
    "    expert_ckpt = json.load(json_file)"
   ]
  },
  {
   "cell_type": "code",
   "execution_count": 11,
   "metadata": {},
   "outputs": [
    {
     "data": {
      "text/plain": [
       "{'LOC': {'sub01': 'temp',\n",
       "  'sub02': 'temp',\n",
       "  'sub03': 'temp',\n",
       "  'sub04': 'temp',\n",
       "  'sub05': 'temp',\n",
       "  'sub06': 'temp',\n",
       "  'sub07': 'temp',\n",
       "  'sub08': 'temp',\n",
       "  'sub09': 'temp',\n",
       "  'sub10': 'temp'},\n",
       " 'FFA': {'sub01': 'temp',\n",
       "  'sub02': 'temp',\n",
       "  'sub03': 'temp',\n",
       "  'sub04': 'temp',\n",
       "  'sub05': 'temp',\n",
       "  'sub06': 'temp',\n",
       "  'sub07': 'temp',\n",
       "  'sub08': 'temp',\n",
       "  'sub09': 'temp',\n",
       "  'sub10': 'temp'},\n",
       " 'STS': {'sub01': 'temp',\n",
       "  'sub02': 'temp',\n",
       "  'sub03': 'temp',\n",
       "  'sub04': 'temp',\n",
       "  'sub05': 'temp',\n",
       "  'sub06': 'temp',\n",
       "  'sub07': 'temp',\n",
       "  'sub08': 'temp',\n",
       "  'sub09': 'temp',\n",
       "  'sub10': 'temp'},\n",
       " 'EBA': {'sub01': 'temp',\n",
       "  'sub02': 'temp',\n",
       "  'sub03': 'temp',\n",
       "  'sub04': 'temp',\n",
       "  'sub05': 'temp',\n",
       "  'sub06': 'temp',\n",
       "  'sub07': 'temp',\n",
       "  'sub08': 'temp',\n",
       "  'sub09': 'temp',\n",
       "  'sub10': 'temp'},\n",
       " 'PPA': {'sub01': 'temp',\n",
       "  'sub02': 'temp',\n",
       "  'sub03': 'temp',\n",
       "  'sub04': 'temp',\n",
       "  'sub05': 'temp',\n",
       "  'sub06': 'temp',\n",
       "  'sub07': 'temp',\n",
       "  'sub08': 'temp',\n",
       "  'sub09': 'temp',\n",
       "  'sub10': 'temp'},\n",
       " 'V1': {'sub01': 'temp',\n",
       "  'sub02': 'temp',\n",
       "  'sub03': 'temp',\n",
       "  'sub04': 'temp',\n",
       "  'sub05': 'temp',\n",
       "  'sub06': 'temp',\n",
       "  'sub07': 'temp',\n",
       "  'sub08': 'temp',\n",
       "  'sub09': 'temp',\n",
       "  'sub10': 'temp'},\n",
       " 'V2': {'sub01': 'temp',\n",
       "  'sub02': 'temp',\n",
       "  'sub03': 'temp',\n",
       "  'sub04': 'temp',\n",
       "  'sub05': 'temp',\n",
       "  'sub06': 'temp',\n",
       "  'sub07': 'temp',\n",
       "  'sub08': 'temp',\n",
       "  'sub09': 'temp',\n",
       "  'sub10': 'temp'},\n",
       " 'V3': {'sub01': 'temp',\n",
       "  'sub02': 'temp',\n",
       "  'sub03': 'temp',\n",
       "  'sub04': 'temp',\n",
       "  'sub05': 'temp',\n",
       "  'sub06': 'temp',\n",
       "  'sub07': 'temp',\n",
       "  'sub08': 'temp',\n",
       "  'sub09': 'temp',\n",
       "  'sub10': 'temp'},\n",
       " 'V4': {'sub01': 'temp',\n",
       "  'sub02': 'temp',\n",
       "  'sub03': 'temp',\n",
       "  'sub04': 'temp',\n",
       "  'sub05': 'temp',\n",
       "  'sub06': 'temp',\n",
       "  'sub07': 'temp',\n",
       "  'sub08': 'temp',\n",
       "  'sub09': 'temp',\n",
       "  'sub10': 'temp'}}"
      ]
     },
     "execution_count": 11,
     "metadata": {},
     "output_type": "execute_result"
    }
   ],
   "source": [
    "def load_and_predict(expert_path, X, X_test):\n",
    "    # if ext pt load network, else sklearn\n",
    "    # Predict voxels for X and X_test\n",
    "    # Return Predictions for the ROI!\n",
    "    return"
   ]
  },
  {
   "cell_type": "code",
   "execution_count": null,
   "metadata": {},
   "outputs": [],
   "source": []
  }
 ],
 "metadata": {
  "kernelspec": {
   "display_name": "Python3 (ma-vision)",
   "language": "python",
   "name": "ma-vision"
  },
  "language_info": {
   "codemirror_mode": {
    "name": "ipython",
    "version": 3
   },
   "file_extension": ".py",
   "mimetype": "text/x-python",
   "name": "python",
   "nbconvert_exporter": "python",
   "pygments_lexer": "ipython3",
   "version": "3.6.9"
  }
 },
 "nbformat": 4,
 "nbformat_minor": 4
}
