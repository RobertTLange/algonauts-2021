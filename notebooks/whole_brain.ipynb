{
 "cells": [
  {
   "cell_type": "code",
   "execution_count": 1,
   "metadata": {},
   "outputs": [],
   "source": [
    "%matplotlib inline\n",
    "%load_ext autoreload\n",
    "%autoreload 2\n",
    "%config InlineBackend.figure_format = 'retina'\n",
    "\n",
    "import sys\n",
    "sys.path.append(\"..\")"
   ]
  },
  {
   "cell_type": "markdown",
   "metadata": {},
   "source": [
    "# Idea: Bootstrap Predictions from ROIs for WB"
   ]
  },
  {
   "cell_type": "code",
   "execution_count": 2,
   "metadata": {},
   "outputs": [],
   "source": [
    "from utils.helper import get_fmri, get_best_roi_models\n",
    "from utils.wb_data import get_expert_encoding_data\n",
    "\n",
    "sub = 'sub01'\n",
    "roi = 'WB'\n",
    "roi_sub = get_fmri('../data/participants_data_v2021', sub, roi, mean=True)\n",
    "roi_paths = get_best_roi_models('../best_roi_models.json', prepend=\"../data/\")"
   ]
  },
  {
   "cell_type": "code",
   "execution_count": 5,
   "metadata": {},
   "outputs": [],
   "source": [
    "X, y, X_test = get_expert_encoding_data(roi_paths,\n",
    "                             fmri_dir='../data/participants_data_v2021',\n",
    "                             activations_dir='../data/features/alexnet/pca_100',\n",
    "                             layer_id='layer_1', subject_id='sub01')\n",
    "\n",
    "X_train, X_val = X[:900], X[900:]\n",
    "y_train, y_val = y[:900], y[900:]"
   ]
  },
  {
   "cell_type": "code",
   "execution_count": 6,
   "metadata": {},
   "outputs": [
    {
     "data": {
      "text/plain": [
       "(0.03950439312902313, 0.2283685814371446, 0.37744550005724614)"
      ]
     },
     "execution_count": 6,
     "metadata": {},
     "output_type": "execute_result"
    }
   ],
   "source": [
    "from encoding_models.elastic_net import fit_elastic_net, predict_elastic_net\n",
    "from utils.evaluate import evaluation_metrics\n",
    "\n",
    "model_config = {\"alpha\": 0.025, \"l1_ratio\": 0.5}\n",
    "model_params = fit_elastic_net(model_config, X_train, y_train)\n",
    "y_pred = predict_elastic_net(model_params, X_val)\n",
    "# corr, mse, mae\n",
    "evaluation_metrics(y_val, y_pred)"
   ]
  },
  {
   "cell_type": "code",
   "execution_count": null,
   "metadata": {},
   "outputs": [],
   "source": []
  }
 ],
 "metadata": {
  "kernelspec": {
   "display_name": "Python3 (ma-vision)",
   "language": "python",
   "name": "ma-vision"
  },
  "language_info": {
   "codemirror_mode": {
    "name": "ipython",
    "version": 3
   },
   "file_extension": ".py",
   "mimetype": "text/x-python",
   "name": "python",
   "nbconvert_exporter": "python",
   "pygments_lexer": "ipython3",
   "version": "3.6.9"
  }
 },
 "nbformat": 4,
 "nbformat_minor": 4
}
