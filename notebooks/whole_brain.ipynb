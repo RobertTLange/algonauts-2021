{
 "cells": [
  {
   "cell_type": "code",
   "execution_count": 1,
   "metadata": {},
   "outputs": [],
   "source": [
    "%matplotlib inline\n",
    "%load_ext autoreload\n",
    "%autoreload 2\n",
    "%config InlineBackend.figure_format = 'retina'\n",
    "\n",
    "import sys\n",
    "sys.path.append(\"..\")"
   ]
  },
  {
   "cell_type": "markdown",
   "metadata": {},
   "source": [
    "# Idea: Bootstrap Predictions from ROIs for WB"
   ]
  },
  {
   "cell_type": "code",
   "execution_count": 15,
   "metadata": {},
   "outputs": [],
   "source": [
    "from utils.helper import get_fmri, get_encoding_data, get_best_roi_models\n",
    "from encoding_models import EncoderFitter\n",
    "from mle_toolbox import load_result_logs\n",
    "\n",
    "sub = 'sub01'\n",
    "roi = 'WB'\n",
    "roi_sub = get_fmri('../data/participants_data_v2021', sub, roi, mean=True)\n",
    "roi_paths = get_best_roi_models('../best_roi_models.json', prepend=\"../data/\")"
   ]
  },
  {
   "cell_type": "code",
   "execution_count": 22,
   "metadata": {},
   "outputs": [],
   "source": [
    "def get_expert_encoding_data(roi_paths,\n",
    "                             fmri_dir='../data/participants_data_v2021',\n",
    "                             activations_dir='../data/features/alexnet/pca_50',\n",
    "                             layer_id='layer_1', subject_id='sub01'):\n",
    "    \n",
    "    all_rois = ['LOC', 'FFA', 'STS', 'EBA', 'PPA',\n",
    "                'V1', 'V2', 'V3', 'V4']\n",
    "    \n",
    "    for roi in all_rois:\n",
    "        X, y, X_test = get_encoding_data(fmri_dir, activations_dir,\n",
    "                                         layer_id, subject_id, roi)\n",
    "        \n",
    "        meta_log, hyper_log = load_result_logs(roi_paths[roi])\n",
    "        hyper_sub = hyper_log[hyper_log.subject_id == subject_id]\n",
    "        hyper_sub_roi = hyper_sub[hyper_sub.roi_type == roi]\n",
    "        # experiment_dir = hyper_sub_roi.experiment_dir.iloc[0]\n",
    "        eval_id = hyper_sub_roi.run_id.iloc[0]\n",
    "        experiment_dir = meta_log[eval_id].meta.experiment_dir\n",
    "        print(hyper_sub_roi.model_ckpt.iloc[0])\n",
    "        print(meta_log[eval_id].meta)\n",
    "        #X_roi, X_roi_test = load_and_predict(subject_id, roi, roi_path[roi], X, X_test)\n",
    "        # Stack features together \n",
    "    return"
   ]
  },
  {
   "cell_type": "code",
   "execution_count": 23,
   "metadata": {},
   "outputs": [
    {
     "name": "stdout",
     "output_type": "stream",
     "text": [
      "experiments/mlp_alexnet_bo_20/21-05-31_b_1_eval_0/models/final/21-05-31_b_1_eval_0_seed_0.pt\n",
      "DotMap(config_fname='experiments/mlp_vgg_bo_30/21-05-31_b_1_eval_0/21-05-31_b_1_eval_0.json', eval_id='b_1_eval_0', experiment_dir='experiments/mlp_vgg_bo_30/21-05-31_b_1_eval_0/', log_paths=array('experiments/mlp_vgg_bo_30/21-05-31_b_1_eval_0/logs/21-05-31_b_1_eval_0_seed_0.hdf5',\n",
      "      dtype='<U200'), model_ckpt=array('experiments/mlp_vgg_bo_30/21-05-31_b_1_eval_0/models/final/21-05-31_b_1_eval_0_seed_0.pt',\n",
      "      dtype='<U200'), model_type='torch', seeds=[0])\n",
      "experiments/roi/mlp_efficientnet_b3_bo_50/21-06-05_b_1_eval_10/models/final/21-06-05_b_1_eval_10_seed_0.pt\n",
      "DotMap(config_fname='experiments/roi/mlp_efficientnet_b3_bo_50/21-06-05_b_1_eval_10/21-06-05_b_1_eval_10.json', eval_id='b_1_eval_10', experiment_dir='experiments/roi/mlp_efficientnet_b3_bo_50/21-06-05_b_1_eval_10/', log_paths=array('experiments/roi/mlp_efficientnet_b3_bo_50/21-06-05_b_1_eval_10/logs/21-06-05_b_1_eval_10_seed_0.hdf5',\n",
      "      dtype='<U200'), model_ckpt=array('experiments/roi/mlp_efficientnet_b3_bo_50/21-06-05_b_1_eval_10/models/final/21-06-05_b_1_eval_10_seed_0.pt',\n",
      "      dtype='<U200'), model_type='torch', seeds=[0])\n",
      "experiments/roi/mlp_efficientnet_b3_bo_50/21-06-05_b_1_eval_20/models/final/21-06-05_b_1_eval_20_seed_0.pt\n",
      "DotMap(config_fname='experiments/roi/mlp_efficientnet_b3_bo_50/21-06-05_b_1_eval_20/21-06-05_b_1_eval_20.json', eval_id='b_1_eval_20', experiment_dir='experiments/roi/mlp_efficientnet_b3_bo_50/21-06-05_b_1_eval_20/', log_paths=array('experiments/roi/mlp_efficientnet_b3_bo_50/21-06-05_b_1_eval_20/logs/21-06-05_b_1_eval_20_seed_0.hdf5',\n",
      "      dtype='<U200'), model_ckpt=array('experiments/roi/mlp_efficientnet_b3_bo_50/21-06-05_b_1_eval_20/models/final/21-06-05_b_1_eval_20_seed_0.pt',\n",
      "      dtype='<U200'), model_type='torch', seeds=[0])\n",
      "experiments/roi/mlp_efficientnet_b3_bo_50/21-06-05_b_1_eval_30/models/final/21-06-05_b_1_eval_30_seed_0.pt\n",
      "DotMap(config_fname='experiments/roi/mlp_efficientnet_b3_bo_50/21-06-05_b_1_eval_30/21-06-05_b_1_eval_30.json', eval_id='b_1_eval_30', experiment_dir='experiments/roi/mlp_efficientnet_b3_bo_50/21-06-05_b_1_eval_30/', log_paths=array('experiments/roi/mlp_efficientnet_b3_bo_50/21-06-05_b_1_eval_30/logs/21-06-05_b_1_eval_30_seed_0.hdf5',\n",
      "      dtype='<U200'), model_ckpt=array('experiments/roi/mlp_efficientnet_b3_bo_50/21-06-05_b_1_eval_30/models/final/21-06-05_b_1_eval_30_seed_0.pt',\n",
      "      dtype='<U200'), model_type='torch', seeds=[0])\n",
      "experiments/roi/elastic_vone_resnet50_bo_50/21-06-12_b_1_eval_40/models/final/21-06-12_b_1_eval_40_seed_0.pkl\n",
      "DotMap(config_fname='experiments/roi/elastic_vone_resnet50_bo_50/21-06-12_b_1_eval_40/21-06-12_b_1_eval_40.json', eval_id='b_1_eval_40', experiment_dir='experiments/roi/elastic_vone_resnet50_bo_50/21-06-12_b_1_eval_40/', log_paths=array('experiments/roi/elastic_vone_resnet50_bo_50/21-06-12_b_1_eval_40/logs/21-06-12_b_1_eval_40_seed_0.hdf5',\n",
      "      dtype='<U200'), model_ckpt=array('experiments/roi/elastic_vone_resnet50_bo_50/21-06-12_b_1_eval_40/models/final/21-06-12_b_1_eval_40_seed_0.pkl',\n",
      "      dtype='<U200'), model_type='sklearn', seeds=[0])\n",
      "experiments/roi/elastic_vone_resnet50_bo_50/21-06-12_b_1_eval_50/models/final/21-06-12_b_1_eval_50_seed_0.pkl\n",
      "DotMap(config_fname='experiments/roi/elastic_vone_resnet50_bo_50/21-06-12_b_1_eval_50/21-06-12_b_1_eval_50.json', eval_id='b_1_eval_50', experiment_dir='experiments/roi/elastic_vone_resnet50_bo_50/21-06-12_b_1_eval_50/', log_paths=array('experiments/roi/elastic_vone_resnet50_bo_50/21-06-12_b_1_eval_50/logs/21-06-12_b_1_eval_50_seed_0.hdf5',\n",
      "      dtype='<U200'), model_ckpt=array('experiments/roi/elastic_vone_resnet50_bo_50/21-06-12_b_1_eval_50/models/final/21-06-12_b_1_eval_50_seed_0.pkl',\n",
      "      dtype='<U200'), model_type='sklearn', seeds=[0])\n",
      "experiments/roi/elastic_resnet50_bo_50/21-06-02_b_1_eval_60/models/final/21-06-02_b_1_eval_60_seed_0.pkl\n",
      "DotMap(config_fname='experiments/roi/elastic_resnet50_bo_50/21-06-02_b_1_eval_60/21-06-02_b_1_eval_60.json', eval_id='b_1_eval_60', experiment_dir='experiments/roi/elastic_resnet50_bo_50/21-06-02_b_1_eval_60/', log_paths=array('experiments/roi/elastic_resnet50_bo_50/21-06-02_b_1_eval_60/logs/21-06-02_b_1_eval_60_seed_0.hdf5',\n",
      "      dtype='<U200'), model_ckpt=array('experiments/roi/elastic_resnet50_bo_50/21-06-02_b_1_eval_60/models/final/21-06-02_b_1_eval_60_seed_0.pkl',\n",
      "      dtype='<U200'), model_type='sklearn', seeds=[0])\n",
      "experiments/roi/elastic_resnet50_bo_50/21-06-02_b_1_eval_70/models/final/21-06-02_b_1_eval_70_seed_0.pkl\n",
      "DotMap(config_fname='experiments/roi/elastic_resnet50_bo_50/21-06-02_b_1_eval_70/21-06-02_b_1_eval_70.json', eval_id='b_1_eval_70', experiment_dir='experiments/roi/elastic_resnet50_bo_50/21-06-02_b_1_eval_70/', log_paths=array('experiments/roi/elastic_resnet50_bo_50/21-06-02_b_1_eval_70/logs/21-06-02_b_1_eval_70_seed_0.hdf5',\n",
      "      dtype='<U200'), model_ckpt=array('experiments/roi/elastic_resnet50_bo_50/21-06-02_b_1_eval_70/models/final/21-06-02_b_1_eval_70_seed_0.pkl',\n",
      "      dtype='<U200'), model_type='sklearn', seeds=[0])\n",
      "experiments/roi/elastic_resnet50_bo_50/21-06-02_b_1_eval_80/models/final/21-06-02_b_1_eval_80_seed_0.pkl\n",
      "DotMap(config_fname='experiments/roi/elastic_resnet50_bo_50/21-06-02_b_1_eval_80/21-06-02_b_1_eval_80.json', eval_id='b_1_eval_80', experiment_dir='experiments/roi/elastic_resnet50_bo_50/21-06-02_b_1_eval_80/', log_paths=array('experiments/roi/elastic_resnet50_bo_50/21-06-02_b_1_eval_80/logs/21-06-02_b_1_eval_80_seed_0.hdf5',\n",
      "      dtype='<U200'), model_ckpt=array('experiments/roi/elastic_resnet50_bo_50/21-06-02_b_1_eval_80/models/final/21-06-02_b_1_eval_80_seed_0.pkl',\n",
      "      dtype='<U200'), model_type='sklearn', seeds=[0])\n"
     ]
    }
   ],
   "source": [
    "get_expert_encoding_data(roi_paths,\n",
    "                             fmri_dir='../data/participants_data_v2021',\n",
    "                             activations_dir='../data/features/alexnet/pca_50',\n",
    "                             layer_id='layer_1', subject_id='sub01')"
   ]
  },
  {
   "cell_type": "code",
   "execution_count": null,
   "metadata": {},
   "outputs": [],
   "source": [
    "def load_and_predict(subject_id, roi_type, roi_path, X, X_test):\n",
    "    # from utils.helper import get_encoding_data\n",
    "    "
   ]
  },
  {
   "cell_type": "code",
   "execution_count": null,
   "metadata": {},
   "outputs": [],
   "source": []
  }
 ],
 "metadata": {
  "kernelspec": {
   "display_name": "Python3 (ma-vision)",
   "language": "python",
   "name": "ma-vision"
  },
  "language_info": {
   "codemirror_mode": {
    "name": "ipython",
    "version": 3
   },
   "file_extension": ".py",
   "mimetype": "text/x-python",
   "name": "python",
   "nbconvert_exporter": "python",
   "pygments_lexer": "ipython3",
   "version": "3.6.9"
  }
 },
 "nbformat": 4,
 "nbformat_minor": 4
}
