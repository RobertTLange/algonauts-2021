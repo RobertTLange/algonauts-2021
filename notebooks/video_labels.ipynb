{
 "cells": [
  {
   "cell_type": "code",
   "execution_count": 1,
   "metadata": {},
   "outputs": [],
   "source": [
    "%matplotlib inline\n",
    "%load_ext autoreload\n",
    "%autoreload 2\n",
    "%config InlineBackend.figure_format = 'retina'\n",
    "\n",
    "import sys\n",
    "sys.path.append(\"..\")"
   ]
  },
  {
   "cell_type": "code",
   "execution_count": 32,
   "metadata": {},
   "outputs": [],
   "source": [
    "import os\n",
    "import glob\n",
    "from tqdm import tqdm\n",
    "\n",
    "import numpy as np\n",
    "import cv2\n",
    "\n",
    "import torch\n",
    "from torch.autograd import Variable as V\n",
    "from torchvision import transforms as trn\n",
    "from feature_extraction.resnet import load_resnet\n",
    "\n",
    "def get_video_from_mp4(file, sampling_rate):\n",
    "    cap = cv2.VideoCapture(file)\n",
    "    frameCount = int(cap.get(cv2.CAP_PROP_FRAME_COUNT))\n",
    "    frameWidth = int(cap.get(cv2.CAP_PROP_FRAME_WIDTH))\n",
    "    frameHeight = int(cap.get(cv2.CAP_PROP_FRAME_HEIGHT))\n",
    "    buf = np.empty((int(frameCount / sampling_rate), frameHeight,\n",
    "                   frameWidth, 3), np.dtype('uint8'))\n",
    "    fc = 0\n",
    "    ret = True\n",
    "    while fc < frameCount and ret:\n",
    "        fc += 1\n",
    "        (ret, frame) = cap.read()\n",
    "        frame = cv2.cvtColor(frame, cv2.COLOR_BGR2RGB)\n",
    "        if fc % sampling_rate == 0:\n",
    "            buf[int((fc - 1) / sampling_rate)] = frame\n",
    "\n",
    "    cap.release()\n",
    "    return np.expand_dims(buf, axis=0), int(frameCount / sampling_rate)\n",
    "\n",
    "\n",
    "def get_predictions(model, video_list, sampling_rate=4):\n",
    "    centre_crop = trn.Compose([\n",
    "                trn.ToPILImage(),\n",
    "                trn.Resize((224,224)),\n",
    "                trn.ToTensor(),\n",
    "                trn.Normalize([0.485, 0.456, 0.406],\n",
    "                              [0.229, 0.224, 0.225])])\n",
    "\n",
    "    for video_file in tqdm(video_list[:1]):\n",
    "        print(video_file)\n",
    "        vid, num_frames = get_video_from_mp4(video_file, sampling_rate)\n",
    "        video_file_name = os.path.split(video_file)[-1].split(\".\")[0]\n",
    "\n",
    "        for frame in range(num_frames):\n",
    "            img =  vid[0,frame,:,:,:]\n",
    "            input_img = V(centre_crop(img).unsqueeze(0))\n",
    "            if torch.cuda.is_available():\n",
    "                input_img = input_img.cuda()\n",
    "\n",
    "            preds = model.forward(input_img)[-1]\n",
    "            topk=(1,5)\n",
    "            _, pred = preds.topk(max(topk), dim=1, largest=True, sorted=True)\n",
    "            print(pred)\n",
    "    return pred\n"
   ]
  },
  {
   "cell_type": "code",
   "execution_count": 33,
   "metadata": {},
   "outputs": [
    {
     "name": "stderr",
     "output_type": "stream",
     "text": [
      "  0%|          | 0/1 [00:00<?, ?it/s]"
     ]
    },
    {
     "name": "stdout",
     "output_type": "stream",
     "text": [
      "../data/AlgonautsVideos268_All_30fpsmax/0001_0-0-1-6-7-2-8-0-17500167280.mp4\n",
      "tensor([[ 97,  99,  98, 137, 975]])\n",
      "tensor([[137,  98,  99,  97, 148]])\n",
      "tensor([[ 98,  99, 137, 148, 142]])\n",
      "tensor([[ 98, 137,  99, 195, 143]])\n",
      "tensor([[ 98, 137, 232,  99, 143]])\n",
      "tensor([[ 98, 137,  97,  99, 148]])\n",
      "tensor([[ 98, 137,  99, 975, 148]])\n",
      "tensor([[ 98,  97, 137, 148,  99]])\n",
      "tensor([[148,  98, 137, 975,  99]])\n",
      "tensor([[ 98, 137, 148,  97,  99]])\n",
      "tensor([[ 98, 137,  97, 148,  99]])\n",
      "tensor([[ 98, 137,  99,  97, 975]])\n",
      "tensor([[137,  98,  99,  97, 148]])\n",
      "tensor([[ 98,  97,  99, 137, 143]])\n",
      "tensor([[ 98,  97, 472, 137,  99]])\n",
      "tensor([[ 98, 148, 975,  99, 472]])\n",
      "tensor([[ 98,  97, 148, 472,  99]])\n",
      "tensor([[ 98,  97, 148, 975, 472]])\n",
      "tensor([[ 98,  97,  99, 975, 137]])\n",
      "tensor([[ 98,  97,  99, 975, 472]])\n",
      "tensor([[ 98,  97,  99, 128, 137]])\n"
     ]
    },
    {
     "name": "stderr",
     "output_type": "stream",
     "text": [
      "100%|██████████| 1/1 [00:05<00:00,  5.19s/it]"
     ]
    },
    {
     "name": "stdout",
     "output_type": "stream",
     "text": [
      "tensor([[ 98,  97,  99, 137, 148]])\n"
     ]
    },
    {
     "name": "stderr",
     "output_type": "stream",
     "text": [
      "\n"
     ]
    }
   ],
   "source": [
    "video_dir = '../data/AlgonautsVideos268_All_30fpsmax/'\n",
    "video_list = glob.glob(video_dir + '/*.mp4')\n",
    "video_list.sort()\n",
    "model = load_resnet(\"resnet50\")\n",
    "pred = get_predictions(model, video_list, sampling_rate=4)"
   ]
  },
  {
   "cell_type": "code",
   "execution_count": 42,
   "metadata": {},
   "outputs": [
    {
     "data": {
      "text/plain": [
       "98"
      ]
     },
     "execution_count": 42,
     "metadata": {},
     "output_type": "execute_result"
    }
   ],
   "source": [
    "pred[0][0].item()"
   ]
  },
  {
   "cell_type": "code",
   "execution_count": 43,
   "metadata": {},
   "outputs": [
    {
     "data": {
      "text/plain": [
       "'red-breasted merganser, Mergus serrator'"
      ]
     },
     "execution_count": 43,
     "metadata": {},
     "output_type": "execute_result"
    }
   ],
   "source": [
    "file = open('imagenet_labels.txt', \"r\")\n",
    "import ast\n",
    "contents = file.read()\n",
    "dictionary = ast.literal_eval(contents)\n",
    "\n",
    "file.close()\n",
    "\n",
    "dictionary[98]"
   ]
  },
  {
   "cell_type": "code",
   "execution_count": null,
   "metadata": {},
   "outputs": [],
   "source": []
  }
 ],
 "metadata": {
  "kernelspec": {
   "display_name": "Python3 (ma-vision)",
   "language": "python",
   "name": "ma-vision"
  },
  "language_info": {
   "codemirror_mode": {
    "name": "ipython",
    "version": 3
   },
   "file_extension": ".py",
   "mimetype": "text/x-python",
   "name": "python",
   "nbconvert_exporter": "python",
   "pygments_lexer": "ipython3",
   "version": "3.6.9"
  }
 },
 "nbformat": 4,
 "nbformat_minor": 4
}
